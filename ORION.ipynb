{
 "cells": [
  {
   "cell_type": "code",
   "execution_count": 4,
   "id": "40a487a2",
   "metadata": {},
   "outputs": [
    {
     "name": "stdout",
     "output_type": "stream",
     "text": [
      "Requirement already satisfied: ccxt in c:\\users\\gideo\\anaconda3\\lib\\site-packages (3.0.103)\n",
      "Requirement already satisfied: requests>=2.18.4 in c:\\users\\gideo\\anaconda3\\lib\\site-packages (from ccxt) (2.28.1)\n",
      "Requirement already satisfied: aiodns>=1.1.1 in c:\\users\\gideo\\anaconda3\\lib\\site-packages (from ccxt) (3.0.0)\n",
      "Requirement already satisfied: certifi>=2018.1.18 in c:\\users\\gideo\\anaconda3\\lib\\site-packages (from ccxt) (2022.12.7)\n",
      "Requirement already satisfied: setuptools>=60.9.0 in c:\\users\\gideo\\anaconda3\\lib\\site-packages (from ccxt) (65.6.3)\n",
      "Requirement already satisfied: cryptography>=2.6.1 in c:\\users\\gideo\\anaconda3\\lib\\site-packages (from ccxt) (39.0.1)\n",
      "Requirement already satisfied: yarl>=1.7.2 in c:\\users\\gideo\\anaconda3\\lib\\site-packages (from ccxt) (1.9.2)\n",
      "Requirement already satisfied: aiohttp>=3.8 in c:\\users\\gideo\\anaconda3\\lib\\site-packages (from ccxt) (3.8.4)\n",
      "Requirement already satisfied: pycares>=4.0.0 in c:\\users\\gideo\\anaconda3\\lib\\site-packages (from aiodns>=1.1.1->ccxt) (4.3.0)\n",
      "Requirement already satisfied: aiosignal>=1.1.2 in c:\\users\\gideo\\anaconda3\\lib\\site-packages (from aiohttp>=3.8->ccxt) (1.3.1)\n",
      "Requirement already satisfied: attrs>=17.3.0 in c:\\users\\gideo\\anaconda3\\lib\\site-packages (from aiohttp>=3.8->ccxt) (22.1.0)\n",
      "Requirement already satisfied: charset-normalizer<4.0,>=2.0 in c:\\users\\gideo\\anaconda3\\lib\\site-packages (from aiohttp>=3.8->ccxt) (2.0.4)\n",
      "Requirement already satisfied: frozenlist>=1.1.1 in c:\\users\\gideo\\anaconda3\\lib\\site-packages (from aiohttp>=3.8->ccxt) (1.3.3)\n",
      "Requirement already satisfied: multidict<7.0,>=4.5 in c:\\users\\gideo\\anaconda3\\lib\\site-packages (from aiohttp>=3.8->ccxt) (6.0.4)\n",
      "Requirement already satisfied: async-timeout<5.0,>=4.0.0a3 in c:\\users\\gideo\\anaconda3\\lib\\site-packages (from aiohttp>=3.8->ccxt) (4.0.2)\n",
      "Requirement already satisfied: cffi>=1.12 in c:\\users\\gideo\\anaconda3\\lib\\site-packages (from cryptography>=2.6.1->ccxt) (1.15.1)\n",
      "Requirement already satisfied: idna<4,>=2.5 in c:\\users\\gideo\\anaconda3\\lib\\site-packages (from requests>=2.18.4->ccxt) (3.4)\n",
      "Requirement already satisfied: urllib3<1.27,>=1.21.1 in c:\\users\\gideo\\anaconda3\\lib\\site-packages (from requests>=2.18.4->ccxt) (1.26.14)\n",
      "Requirement already satisfied: pycparser in c:\\users\\gideo\\anaconda3\\lib\\site-packages (from cffi>=1.12->cryptography>=2.6.1->ccxt) (2.21)\n"
     ]
    }
   ],
   "source": [
    "import pandas as pd\n",
    "import seaborn as sns\n",
    "import matplotlib.pyplot as plt\n",
    "import numpy as np\n",
    "from statsmodels.formula.api import ols\n",
    "!pip install ccxt\n",
    "import ccxt as ccxt"
   ]
  },
  {
   "cell_type": "code",
   "execution_count": 5,
   "id": "7b93fd2c",
   "metadata": {},
   "outputs": [],
   "source": [
    "import pandas as pd\n",
    "MarketDf = pd.read_csv(\"TotalMarketCSV File.csv\")"
   ]
  },
  {
   "cell_type": "code",
   "execution_count": 6,
   "id": "f70c58ed",
   "metadata": {},
   "outputs": [
    {
     "data": {
      "text/plain": [
       "<bound method DataFrame.info of       Unnamed: 0  24h_volume_usd  available_supply                 id  \\\n",
       "0              0    9.007640e+09      1.672352e+07            bitcoin   \n",
       "1              1    1.551330e+09      9.616537e+07           ethereum   \n",
       "2              2    1.111350e+09      1.684044e+07       bitcoin-cash   \n",
       "3              3    2.936090e+09      2.779530e+09               iota   \n",
       "4              4    2.315050e+08      3.873915e+10             ripple   \n",
       "...          ...             ...               ...                ...   \n",
       "1321        1321             NaN               NaN          turbocoin   \n",
       "1322        1322             NaN               NaN              birds   \n",
       "1323        1323             NaN               NaN  bitcoincashscrypt   \n",
       "1324        1324             NaN               NaN          swisscoin   \n",
       "1325        1325             NaN               NaN          faceblock   \n",
       "\n",
       "      last_updated  market_cap_usd    max_supply               name  \\\n",
       "0       1512549554    2.130490e+11  2.100000e+07            Bitcoin   \n",
       "1       1512549553    4.352945e+10           NaN           Ethereum   \n",
       "2       1512549578    2.529585e+10  2.100000e+07       Bitcoin Cash   \n",
       "3       1512549571    1.475225e+10  2.779530e+09               IOTA   \n",
       "4       1512549541    9.365343e+09  1.000000e+11             Ripple   \n",
       "...            ...             ...           ...                ...   \n",
       "1321    1512368664             NaN           NaN          TurboCoin   \n",
       "1322    1512535772             NaN           NaN              Birds   \n",
       "1323    1512548078             NaN           NaN  BitcoinCashScrypt   \n",
       "1324    1512540278             NaN           NaN          Swisscoin   \n",
       "1325    1512435283             NaN           NaN          Faceblock   \n",
       "\n",
       "      percent_change_1h  percent_change_24h  percent_change_7d     price_btc  \\\n",
       "0                  0.12                7.33              17.45  1.000000e+00   \n",
       "1                 -0.18               -3.93              -7.33  3.617670e-02   \n",
       "2                  1.65               -5.51              -4.75  1.200500e-01   \n",
       "3                 -2.38               83.35             255.82  4.241800e-04   \n",
       "4                  0.56               -3.70             -14.79  1.930000e-05   \n",
       "...                 ...                 ...                ...           ...   \n",
       "1321                NaN                 NaN               8.12  1.000000e-08   \n",
       "1322                NaN               10.62             -42.10  1.000000e-08   \n",
       "1323              -0.37              -37.39             -27.69  5.000000e-07   \n",
       "1324                NaN                4.39             -22.84  1.000000e-08   \n",
       "1325                NaN                 NaN              -6.83  1.400000e-07   \n",
       "\n",
       "         price_usd  rank symbol  total_supply  \n",
       "0     12739.500000     1    BTC  1.672352e+07  \n",
       "1       452.652000     2    ETH  9.616537e+07  \n",
       "2      1502.090000     3    BCH  1.684044e+07  \n",
       "3         5.307460     4  MIOTA  2.779530e+09  \n",
       "4         0.241754     5    XRP  9.999309e+10  \n",
       "...            ...   ...    ...           ...  \n",
       "1321      0.000114  1322  TURBO           NaN  \n",
       "1322      0.000122  1323  BIRDS           NaN  \n",
       "1323      0.006202  1324   BCCS  2.502380e+06  \n",
       "1324      0.000123  1325    SIC  1.020000e+10  \n",
       "1325      0.001654  1326    FBL  1.000000e+07  \n",
       "\n",
       "[1326 rows x 16 columns]>"
      ]
     },
     "execution_count": 6,
     "metadata": {},
     "output_type": "execute_result"
    }
   ],
   "source": [
    "MarketDf.shape\n",
    "MarketDf.info"
   ]
  },
  {
   "cell_type": "code",
   "execution_count": 7,
   "id": "835c159b",
   "metadata": {},
   "outputs": [
    {
     "data": {
      "text/plain": [
       "Unnamed: 0               0\n",
       "24h_volume_usd          56\n",
       "available_supply       295\n",
       "id                       0\n",
       "last_updated             0\n",
       "market_cap_usd         295\n",
       "max_supply            1111\n",
       "name                     0\n",
       "percent_change_1h       53\n",
       "percent_change_24h      56\n",
       "percent_change_7d       43\n",
       "price_btc                0\n",
       "price_usd                0\n",
       "rank                     0\n",
       "symbol                   0\n",
       "total_supply           115\n",
       "dtype: int64"
      ]
     },
     "execution_count": 7,
     "metadata": {},
     "output_type": "execute_result"
    }
   ],
   "source": [
    "MarketDf.isnull().sum()"
   ]
  },
  {
   "cell_type": "code",
   "execution_count": 8,
   "id": "43df2c25",
   "metadata": {},
   "outputs": [
    {
     "name": "stdout",
     "output_type": "stream",
     "text": [
      "      Unnamed: 0  24h_volume_usd  available_supply                  id  \\\n",
      "0              0    9.007640e+09      1.672352e+07             bitcoin   \n",
      "2              2    1.111350e+09      1.684044e+07        bitcoin-cash   \n",
      "3              3    2.936090e+09      2.779530e+09                iota   \n",
      "4              4    2.315050e+08      3.873915e+10              ripple   \n",
      "5              5    2.289430e+08      7.736420e+06                dash   \n",
      "...          ...             ...               ...                 ...   \n",
      "1020        1020    6.909060e+01      1.662700e+04              enigma   \n",
      "1021        1021    1.300720e+02      1.994860e+05             ulatech   \n",
      "1024        1024    2.231020e+02      4.213000e+05  digital-money-bits   \n",
      "1028        1028    4.271860e+01      8.714000e+04          caliphcoin   \n",
      "1030        1030    1.718820e+02      7.924200e+04       applecoin-apw   \n",
      "\n",
      "      last_updated  market_cap_usd    max_supply                name  \\\n",
      "0       1512549554    2.130490e+11  2.100000e+07             Bitcoin   \n",
      "2       1512549578    2.529585e+10  2.100000e+07        Bitcoin Cash   \n",
      "3       1512549571    1.475225e+10  2.779530e+09                IOTA   \n",
      "4       1512549541    9.365343e+09  1.000000e+11              Ripple   \n",
      "5       1512549542    5.794076e+09  1.890000e+07                Dash   \n",
      "...            ...             ...           ...                 ...   \n",
      "1020    1512549554    2.303000e+03  5.000000e+06              Enigma   \n",
      "1021    1512549576    2.302000e+03  9.000000e+07             Ulatech   \n",
      "1024    1512549567    5.150000e+02  5.000000e+07  Digital Money Bits   \n",
      "1028    1512549561    1.000000e+02  1.890000e+08          CaliphCoin   \n",
      "1030    1512549575    1.000000e+01  2.100000e+09           AppleCoin   \n",
      "\n",
      "      percent_change_1h  percent_change_24h  percent_change_7d     price_btc  \\\n",
      "0                  0.12                7.33              17.45  1.000000e+00   \n",
      "2                  1.65               -5.51              -4.75  1.200500e-01   \n",
      "3                 -2.38               83.35             255.82  4.241800e-04   \n",
      "4                  0.56               -3.70             -14.79  1.930000e-05   \n",
      "5                  1.22               -3.31              10.64  5.985610e-02   \n",
      "...                 ...                 ...                ...           ...   \n",
      "1020               0.54              -20.54             -23.56  1.110000e-05   \n",
      "1021               0.51               29.06             -64.39  9.200000e-07   \n",
      "1024               0.56                3.81              13.28  1.000000e-07   \n",
      "1028               0.54               53.88              67.27  9.000000e-08   \n",
      "1030               0.54                6.27              17.44  1.000000e-08   \n",
      "\n",
      "         price_usd  rank symbol  total_supply  \n",
      "0     12739.500000     1    BTC  1.672352e+07  \n",
      "2      1502.090000     3    BCH  1.684044e+07  \n",
      "3         5.307460     4  MIOTA  2.779530e+09  \n",
      "4         0.241754     5    XRP  9.999309e+10  \n",
      "5       748.935000     6   DASH  7.736420e+06  \n",
      "...            ...   ...    ...           ...  \n",
      "1020      0.138511  1021    XNG  6.662700e+04  \n",
      "1021      0.011538  1022    ULA  5.419949e+07  \n",
      "1024      0.001222  1025    DMB  1.042130e+07  \n",
      "1028      0.001145  1029   CALC  1.485871e+08  \n",
      "1030      0.000125  1031    APW  1.600079e+09  \n",
      "\n",
      "[186 rows x 16 columns]\n"
     ]
    }
   ],
   "source": [
    "d1 = MarketDf.dropna()\n",
    "print(d1)"
   ]
  },
  {
   "cell_type": "code",
   "execution_count": 9,
   "id": "929a882b",
   "metadata": {},
   "outputs": [
    {
     "data": {
      "text/plain": [
       "Unnamed: 0            0\n",
       "24h_volume_usd        0\n",
       "available_supply      0\n",
       "id                    0\n",
       "last_updated          0\n",
       "market_cap_usd        0\n",
       "max_supply            0\n",
       "name                  0\n",
       "percent_change_1h     0\n",
       "percent_change_24h    0\n",
       "percent_change_7d     0\n",
       "price_btc             0\n",
       "price_usd             0\n",
       "rank                  0\n",
       "symbol                0\n",
       "total_supply          0\n",
       "dtype: int64"
      ]
     },
     "execution_count": 9,
     "metadata": {},
     "output_type": "execute_result"
    }
   ],
   "source": [
    "d1.isnull().sum()"
   ]
  },
  {
   "cell_type": "code",
   "execution_count": 10,
   "id": "ab642ed4",
   "metadata": {},
   "outputs": [
    {
     "name": "stdout",
     "output_type": "stream",
     "text": [
      "      Unnamed: 0  24h_volume_usd  available_supply                  id  \\\n",
      "0              0    9.007640e+09      1.672352e+07             bitcoin   \n",
      "2              2    1.111350e+09      1.684044e+07        bitcoin-cash   \n",
      "3              3    2.936090e+09      2.779530e+09                iota   \n",
      "4              4    2.315050e+08      3.873915e+10              ripple   \n",
      "5              5    2.289430e+08      7.736420e+06                dash   \n",
      "...          ...             ...               ...                 ...   \n",
      "1020        1020    6.909060e+01      1.662700e+04              enigma   \n",
      "1021        1021    1.300720e+02      1.994860e+05             ulatech   \n",
      "1024        1024    2.231020e+02      4.213000e+05  digital-money-bits   \n",
      "1028        1028    4.271860e+01      8.714000e+04          caliphcoin   \n",
      "1030        1030    1.718820e+02      7.924200e+04       applecoin-apw   \n",
      "\n",
      "      last_updated  market_cap_usd    max_supply                name  \\\n",
      "0       1512549554    2.130490e+11  2.100000e+07             Bitcoin   \n",
      "2       1512549578    2.529585e+10  2.100000e+07        Bitcoin Cash   \n",
      "3       1512549571    1.475225e+10  2.779530e+09                IOTA   \n",
      "4       1512549541    9.365343e+09  1.000000e+11              Ripple   \n",
      "5       1512549542    5.794076e+09  1.890000e+07                Dash   \n",
      "...            ...             ...           ...                 ...   \n",
      "1020    1512549554    2.303000e+03  5.000000e+06              Enigma   \n",
      "1021    1512549576    2.302000e+03  9.000000e+07             Ulatech   \n",
      "1024    1512549567    5.150000e+02  5.000000e+07  Digital Money Bits   \n",
      "1028    1512549561    1.000000e+02  1.890000e+08          CaliphCoin   \n",
      "1030    1512549575    1.000000e+01  2.100000e+09           AppleCoin   \n",
      "\n",
      "      percent_change_1h  percent_change_24h  percent_change_7d     price_btc  \\\n",
      "0                  0.12                7.33              17.45  1.000000e+00   \n",
      "2                  1.65               -5.51              -4.75  1.200500e-01   \n",
      "3                 -2.38               83.35             255.82  4.241800e-04   \n",
      "4                  0.56               -3.70             -14.79  1.930000e-05   \n",
      "5                  1.22               -3.31              10.64  5.985610e-02   \n",
      "...                 ...                 ...                ...           ...   \n",
      "1020               0.54              -20.54             -23.56  1.110000e-05   \n",
      "1021               0.51               29.06             -64.39  9.200000e-07   \n",
      "1024               0.56                3.81              13.28  1.000000e-07   \n",
      "1028               0.54               53.88              67.27  9.000000e-08   \n",
      "1030               0.54                6.27              17.44  1.000000e-08   \n",
      "\n",
      "         price_usd  rank symbol  total_supply  \n",
      "0     12739.500000     1    BTC  1.672352e+07  \n",
      "2      1502.090000     3    BCH  1.684044e+07  \n",
      "3         5.307460     4  MIOTA  2.779530e+09  \n",
      "4         0.241754     5    XRP  9.999309e+10  \n",
      "5       748.935000     6   DASH  7.736420e+06  \n",
      "...            ...   ...    ...           ...  \n",
      "1020      0.138511  1021    XNG  6.662700e+04  \n",
      "1021      0.011538  1022    ULA  5.419949e+07  \n",
      "1024      0.001222  1025    DMB  1.042130e+07  \n",
      "1028      0.001145  1029   CALC  1.485871e+08  \n",
      "1030      0.000125  1031    APW  1.600079e+09  \n",
      "\n",
      "[186 rows x 16 columns]\n"
     ]
    }
   ],
   "source": [
    "df = pd.DataFrame(d1)\n",
    "print(df)"
   ]
  },
  {
   "cell_type": "code",
   "execution_count": 11,
   "id": "d8c0bbf9",
   "metadata": {},
   "outputs": [
    {
     "data": {
      "text/html": [
       "<div>\n",
       "<style scoped>\n",
       "    .dataframe tbody tr th:only-of-type {\n",
       "        vertical-align: middle;\n",
       "    }\n",
       "\n",
       "    .dataframe tbody tr th {\n",
       "        vertical-align: top;\n",
       "    }\n",
       "\n",
       "    .dataframe thead th {\n",
       "        text-align: right;\n",
       "    }\n",
       "</style>\n",
       "<table border=\"1\" class=\"dataframe\">\n",
       "  <thead>\n",
       "    <tr style=\"text-align: right;\">\n",
       "      <th></th>\n",
       "      <th>24h_volume_usd</th>\n",
       "      <th>available_supply</th>\n",
       "      <th>last_updated</th>\n",
       "      <th>market_cap_usd</th>\n",
       "      <th>max_supply</th>\n",
       "      <th>name</th>\n",
       "      <th>percent_change_1h</th>\n",
       "      <th>percent_change_24h</th>\n",
       "      <th>percent_change_7d</th>\n",
       "      <th>price_btc</th>\n",
       "      <th>price_usd</th>\n",
       "      <th>symbol</th>\n",
       "      <th>total_supply</th>\n",
       "    </tr>\n",
       "  </thead>\n",
       "  <tbody>\n",
       "    <tr>\n",
       "      <th>0</th>\n",
       "      <td>9.007640e+09</td>\n",
       "      <td>1.672352e+07</td>\n",
       "      <td>1512549554</td>\n",
       "      <td>2.130490e+11</td>\n",
       "      <td>2.100000e+07</td>\n",
       "      <td>Bitcoin</td>\n",
       "      <td>0.12</td>\n",
       "      <td>7.33</td>\n",
       "      <td>17.45</td>\n",
       "      <td>1.000000</td>\n",
       "      <td>12739.500000</td>\n",
       "      <td>BTC</td>\n",
       "      <td>1.672352e+07</td>\n",
       "    </tr>\n",
       "    <tr>\n",
       "      <th>2</th>\n",
       "      <td>1.111350e+09</td>\n",
       "      <td>1.684044e+07</td>\n",
       "      <td>1512549578</td>\n",
       "      <td>2.529585e+10</td>\n",
       "      <td>2.100000e+07</td>\n",
       "      <td>Bitcoin Cash</td>\n",
       "      <td>1.65</td>\n",
       "      <td>-5.51</td>\n",
       "      <td>-4.75</td>\n",
       "      <td>0.120050</td>\n",
       "      <td>1502.090000</td>\n",
       "      <td>BCH</td>\n",
       "      <td>1.684044e+07</td>\n",
       "    </tr>\n",
       "    <tr>\n",
       "      <th>3</th>\n",
       "      <td>2.936090e+09</td>\n",
       "      <td>2.779530e+09</td>\n",
       "      <td>1512549571</td>\n",
       "      <td>1.475225e+10</td>\n",
       "      <td>2.779530e+09</td>\n",
       "      <td>IOTA</td>\n",
       "      <td>-2.38</td>\n",
       "      <td>83.35</td>\n",
       "      <td>255.82</td>\n",
       "      <td>0.000424</td>\n",
       "      <td>5.307460</td>\n",
       "      <td>MIOTA</td>\n",
       "      <td>2.779530e+09</td>\n",
       "    </tr>\n",
       "    <tr>\n",
       "      <th>4</th>\n",
       "      <td>2.315050e+08</td>\n",
       "      <td>3.873915e+10</td>\n",
       "      <td>1512549541</td>\n",
       "      <td>9.365343e+09</td>\n",
       "      <td>1.000000e+11</td>\n",
       "      <td>Ripple</td>\n",
       "      <td>0.56</td>\n",
       "      <td>-3.70</td>\n",
       "      <td>-14.79</td>\n",
       "      <td>0.000019</td>\n",
       "      <td>0.241754</td>\n",
       "      <td>XRP</td>\n",
       "      <td>9.999309e+10</td>\n",
       "    </tr>\n",
       "    <tr>\n",
       "      <th>5</th>\n",
       "      <td>2.289430e+08</td>\n",
       "      <td>7.736420e+06</td>\n",
       "      <td>1512549542</td>\n",
       "      <td>5.794076e+09</td>\n",
       "      <td>1.890000e+07</td>\n",
       "      <td>Dash</td>\n",
       "      <td>1.22</td>\n",
       "      <td>-3.31</td>\n",
       "      <td>10.64</td>\n",
       "      <td>0.059856</td>\n",
       "      <td>748.935000</td>\n",
       "      <td>DASH</td>\n",
       "      <td>7.736420e+06</td>\n",
       "    </tr>\n",
       "  </tbody>\n",
       "</table>\n",
       "</div>"
      ],
      "text/plain": [
       "   24h_volume_usd  available_supply  last_updated  market_cap_usd  \\\n",
       "0    9.007640e+09      1.672352e+07    1512549554    2.130490e+11   \n",
       "2    1.111350e+09      1.684044e+07    1512549578    2.529585e+10   \n",
       "3    2.936090e+09      2.779530e+09    1512549571    1.475225e+10   \n",
       "4    2.315050e+08      3.873915e+10    1512549541    9.365343e+09   \n",
       "5    2.289430e+08      7.736420e+06    1512549542    5.794076e+09   \n",
       "\n",
       "     max_supply          name  percent_change_1h  percent_change_24h  \\\n",
       "0  2.100000e+07       Bitcoin               0.12                7.33   \n",
       "2  2.100000e+07  Bitcoin Cash               1.65               -5.51   \n",
       "3  2.779530e+09          IOTA              -2.38               83.35   \n",
       "4  1.000000e+11        Ripple               0.56               -3.70   \n",
       "5  1.890000e+07          Dash               1.22               -3.31   \n",
       "\n",
       "   percent_change_7d  price_btc     price_usd symbol  total_supply  \n",
       "0              17.45   1.000000  12739.500000    BTC  1.672352e+07  \n",
       "2              -4.75   0.120050   1502.090000    BCH  1.684044e+07  \n",
       "3             255.82   0.000424      5.307460  MIOTA  2.779530e+09  \n",
       "4             -14.79   0.000019      0.241754    XRP  9.999309e+10  \n",
       "5              10.64   0.059856    748.935000   DASH  7.736420e+06  "
      ]
     },
     "execution_count": 11,
     "metadata": {},
     "output_type": "execute_result"
    }
   ],
   "source": [
    "df_clean = df[['24h_volume_usd', 'available_supply', \n",
    "               'last_updated', 'market_cap_usd', 'max_supply', \n",
    "               'name','percent_change_1h', 'percent_change_24h',\n",
    "               'percent_change_7d','price_btc','price_usd', 'symbol', \n",
    "               'total_supply']]\n",
    "df_clean.head()"
   ]
  },
  {
   "cell_type": "code",
   "execution_count": 12,
   "id": "d385e48f",
   "metadata": {},
   "outputs": [
    {
     "name": "stdout",
     "output_type": "stream",
     "text": [
      "      24h_volume_usd  available_supply  last_updated  market_cap_usd  \\\n",
      "0                NaN               NaN           NaN             NaN   \n",
      "2       5.059495e+09      1.678198e+07  1.512550e+09    1.191724e+11   \n",
      "3       2.023720e+09      1.398185e+09  1.512550e+09    2.002405e+10   \n",
      "4       1.583798e+09      2.075934e+10  1.512550e+09    1.205879e+10   \n",
      "5       2.302240e+08      1.937344e+10  1.512550e+09    7.579709e+09   \n",
      "...              ...               ...           ...             ...   \n",
      "1020    4.873285e+01      4.591662e+06  1.512550e+09    5.842500e+03   \n",
      "1021    9.958130e+01      1.080565e+05  1.512550e+09    2.302500e+03   \n",
      "1024    1.765870e+02      3.103930e+05  1.512550e+09    1.408500e+03   \n",
      "1028    1.329103e+02      2.542200e+05  1.512550e+09    3.075000e+02   \n",
      "1030    1.073003e+02      8.319100e+04  1.512550e+09    5.500000e+01   \n",
      "\n",
      "        max_supply  percent_change_1h  percent_change_24h  percent_change_7d  \\\n",
      "0              NaN                NaN                 NaN                NaN   \n",
      "2     2.100000e+07              0.885               0.910              6.350   \n",
      "3     1.400265e+09             -0.365              38.920            125.535   \n",
      "4     5.138977e+10             -0.910              39.825            120.515   \n",
      "5     5.000945e+10              0.890              -3.505             -2.075   \n",
      "...            ...                ...                 ...                ...   \n",
      "1020  1.250000e+07             -0.750             -27.950             31.445   \n",
      "1021  4.750000e+07              0.525               4.260            -43.975   \n",
      "1024  7.000000e+07              0.535              16.435            -25.555   \n",
      "1028  1.195000e+08              0.550              28.845             40.275   \n",
      "1030  1.144500e+09              0.540              30.075             42.355   \n",
      "\n",
      "         price_btc    price_usd  total_supply  \n",
      "0              NaN          NaN           NaN  \n",
      "2     5.600250e-01  7120.795000  1.678198e+07  \n",
      "3     6.023709e-02   753.698730  1.398185e+09  \n",
      "4     2.217400e-04     2.774607  5.138631e+10  \n",
      "5     2.993770e-02   374.588377  5.000042e+10  \n",
      "...            ...          ...           ...  \n",
      "1020  5.590000e-06     0.069767  4.716662e+06  \n",
      "1021  6.010000e-06     0.075024  2.713306e+07  \n",
      "1024  5.100000e-07     0.006380  3.231039e+07  \n",
      "1028  9.500000e-08     0.001184  7.950422e+07  \n",
      "1030  5.000000e-08     0.000635  8.743332e+08  \n",
      "\n",
      "[186 rows x 11 columns]\n"
     ]
    },
    {
     "name": "stderr",
     "output_type": "stream",
     "text": [
      "C:\\Users\\gideo\\AppData\\Local\\Temp\\ipykernel_13584\\298900277.py:17: FutureWarning: Dropping of nuisance columns in rolling operations is deprecated; in a future version this will raise TypeError. Select only valid columns before calling the operation. Dropped columns were Index(['name', 'symbol'], dtype='object')\n",
      "  df_rolling = df.rolling(window=2).mean()\n"
     ]
    }
   ],
   "source": [
    "import pandas as pd\n",
    "#Read the dataframe\n",
    "df =  df_clean\n",
    "\n",
    "#Group the data by column \"market_cap_usd\" and compute the mean of the column \"price_btc\" for each group\n",
    "df_grouped = df.groupby(\"price_btc\")[\"market_cap_usd\"].mean()\n",
    "df_aggregated = df.groupby(\"price_usd\").agg({\"percent_change_1h\":[\"mean\", \"std\"],\n",
    "                                            \"percent_change_24h\":[\"mean\", \"std\"],\n",
    "                                             \"percent_change_7d\":[\"mean\", \"std\"]})\n",
    "#Group the data by column \"price_usd\" and apply a custom function to the groups\n",
    "def custom_function(x):\n",
    "    return x.max() - x.min()\n",
    "df_percent = df.groupby(\"price_usd\").agg({\"percent_change_1h\": custom_function,\n",
    "                                         \"percent_change_24h\": custom_function,\n",
    "                                         \"percent_change_7d\" : custom_function,})\n",
    "#Compute the rolling average of a data frame with a window the size of 2\n",
    "df_rolling = df.rolling(window=2).mean()\n",
    "print(df_rolling)"
   ]
  },
  {
   "cell_type": "code",
   "execution_count": 13,
   "id": "1d30c1af",
   "metadata": {},
   "outputs": [
    {
     "data": {
      "image/png": "[encoded data removed]",
      "text/plain": [
       "<Figure size 640x480 with 1 Axes>"
      ]
     },
     "metadata": {},
     "output_type": "display_data"
    }
   ],
   "source": [
    "import matplotlib.pyplot as plt\n",
    "\n",
    "#Plot the data\n",
    "#plt.plot(df_clean.index, df_clean[[\"price_btc\", \"price_usd\"]])\n",
    "df[\"price_btc\"].plot()\n",
    "df[\"price_usd\"].plot()\n",
    "\n",
    "#Add labels and titles\n",
    "plt.xlabel(\"Date\")\n",
    "plt.ylabel(\"Price\")\n",
    "plt.title(\"Market Averages for the Price Changes between Bitcoin and U.S Dollar\")\n",
    "\n",
    "#Show the plot\n",
    "plt.show()"
   ]
  },
  {
   "cell_type": "code",
   "execution_count": 14,
   "id": "45c0d104",
   "metadata": {},
   "outputs": [
    {
     "data": {
      "text/plain": [
       "[<matplotlib.lines.Line2D at 0x22b704a95d0>]"
      ]
     },
     "execution_count": 14,
     "metadata": {},
     "output_type": "execute_result"
    },
    {
     "data": {
      "image/png": "[encoded data removed]",
      "text/plain": [
       "<Figure size 640x480 with 1 Axes>"
      ]
     },
     "metadata": {},
     "output_type": "display_data"
    }
   ],
   "source": [
    "#Plot the data with red circles as markers\n",
    "plt.plot(df_clean.index, df_clean[\"price_usd\"], \"r-o\")"
   ]
  },
  {
   "cell_type": "code",
   "execution_count": 15,
   "id": "5427ab2f",
   "metadata": {},
   "outputs": [
    {
     "data": {
      "text/plain": [
       "<BarContainer object of 186 artists>"
      ]
     },
     "execution_count": 15,
     "metadata": {},
     "output_type": "execute_result"
    },
    {
     "data": {
      "image/png": "[encoded data removed]",
      "text/plain": [
       "<Figure size 640x480 with 1 Axes>"
      ]
     },
     "metadata": {},
     "output_type": "display_data"
    }
   ],
   "source": [
    "plt.bar(df_clean.index, df_clean[\"24h_volume_usd\"])"
   ]
  },
  {
   "cell_type": "code",
   "execution_count": 16,
   "id": "84b24923",
   "metadata": {},
   "outputs": [
    {
     "data": {
      "text/plain": [
       "<matplotlib.collections.PathCollection at 0x22b703f8f70>"
      ]
     },
     "execution_count": 16,
     "metadata": {},
     "output_type": "execute_result"
    },
    {
     "data": {
      "image/png": "[encoded data removed]",
      "text/plain": [
       "<Figure size 640x480 with 1 Axes>"
      ]
     },
     "metadata": {},
     "output_type": "display_data"
    }
   ],
   "source": [
    "plt.scatter(df_clean.index, df_clean[\"percent_change_7d\"])"
   ]
  },
  {
   "cell_type": "code",
   "execution_count": 17,
   "id": "0056c635",
   "metadata": {},
   "outputs": [
    {
     "name": "stdout",
     "output_type": "stream",
     "text": [
      "['XMR', 'ADA', 'GRT']\n"
     ]
    }
   ],
   "source": [
    "class Portfolio:\n",
    "    def __init__(self):\n",
    "        self.df_clean = {\"XMR\": 100, \"ADA\": 50, \"GRT\": 200}  # Dictionary to hold stocks in the Portfolio\n",
    "    \n",
    "    def add_stock(self, symbol, shares):\n",
    "        self.df_clean[symbol] = shares\n",
    "    \n",
    "    def remove_stock(self, symbol):\n",
    "        del self.df_clean[symbol]\n",
    "        \n",
    "    def get_stocks(self):\n",
    "        return list(self.df_clean.keys())\n",
    "    \n",
    "    def get_shares(self, symbol):\n",
    "        return self.df_clean[symbol]\n",
    "\n",
    "# Create a new portfolio\n",
    "p = Portfolio()\n",
    "\n",
    "# Add some stocks to the portfolio\n",
    "p.add_stock(\"XMR\", 100)\n",
    "p.add_stock(\"ADA\", 50)\n",
    "p.add_stock(\"GRT\", 200)\n",
    "\n",
    "# Print the stocks in the portfolio\n",
    "print(p.get_stocks())\n",
    "\n",
    "# Output: ['XMR', 'ADA', 'GRT']"
   ]
  },
  {
   "cell_type": "code",
   "execution_count": 18,
   "id": "b25f0382",
   "metadata": {},
   "outputs": [
    {
     "name": "stdout",
     "output_type": "stream",
     "text": [
      "0       539.031514\n",
      "1              NaN\n",
      "2        65.998826\n",
      "3         1.056326\n",
      "4         0.005976\n",
      "           ...    \n",
      "1321           NaN\n",
      "1322           NaN\n",
      "1323           NaN\n",
      "1324           NaN\n",
      "1325           NaN\n",
      "Name: Liquidity, Length: 1326, dtype: float64\n"
     ]
    }
   ],
   "source": [
    "import pandas as pd\n",
    "\n",
    "def liquidity(data):\n",
    "    #Calculate the liquidity as the product of the volume and the inverse of the spread\n",
    "    data[\"Liquidity\"] = df_clean[\"24h_volume_usd\"] / (data[\"available_supply\"] - data[\"price_usd\"])\n",
    "    return data\n",
    "\n",
    "#Load the market data into a data frame\n",
    "df = pd.read_csv(\"TotalMarketCSV File.csv\")\n",
    "\n",
    "#Calculate the liquidity of the stocks\n",
    "df = liquidity(df)\n",
    "\n",
    "#Print the liqudity of stocks\n",
    "\n",
    "print(df[\"Liquidity\"])"
   ]
  },
  {
   "cell_type": "code",
   "execution_count": 19,
   "id": "d738b122",
   "metadata": {},
   "outputs": [
    {
     "name": "stdout",
     "output_type": "stream",
     "text": [
      "Requirement already satisfied: scikit-learn in c:\\users\\gideo\\anaconda3\\lib\\site-packages (1.2.2)\n",
      "Collecting scikit-learn\n",
      "  Downloading scikit_learn-1.3.0-cp310-cp310-win_amd64.whl (9.2 MB)\n",
      "     ---------------------------------------- 9.2/9.2 MB 7.6 MB/s eta 0:00:00\n",
      "Requirement already satisfied: joblib>=1.1.1 in c:\\users\\gideo\\anaconda3\\lib\\site-packages (from scikit-learn) (1.1.1)\n",
      "Requirement already satisfied: threadpoolctl>=2.0.0 in c:\\users\\gideo\\anaconda3\\lib\\site-packages (from scikit-learn) (2.2.0)\n",
      "Requirement already satisfied: numpy>=1.17.3 in c:\\users\\gideo\\anaconda3\\lib\\site-packages (from scikit-learn) (1.23.5)\n",
      "Requirement already satisfied: scipy>=1.5.0 in c:\\users\\gideo\\anaconda3\\lib\\site-packages (from scikit-learn) (1.10.0)\n",
      "Installing collected packages: scikit-learn\n",
      "  Attempting uninstall: scikit-learn\n",
      "    Found existing installation: scikit-learn 1.2.2\n",
      "    Uninstalling scikit-learn-1.2.2:\n",
      "      Successfully uninstalled scikit-learn-1.2.2\n",
      "Successfully installed scikit-learn-1.3.0\n"
     ]
    }
   ],
   "source": [
    "!pip install -U scikit-learn"
   ]
  },
  {
   "cell_type": "code",
   "execution_count": 20,
   "id": "d6daf0ca",
   "metadata": {},
   "outputs": [
    {
     "name": "stdout",
     "output_type": "stream",
     "text": [
      "R^2 score: -0.020892359178417808\n"
     ]
    }
   ],
   "source": [
    "import pandas as pd\n",
    "from sklearn.ensemble import RandomForestRegressor\n",
    "from sklearn.model_selection import train_test_split\n",
    "from sklearn.preprocessing import StandardScaler\n",
    "\n",
    "# Load the crypto data into a data frame Percentile Changes\n",
    "df = df_clean\n",
    "\n",
    "# Split the data into features and labels\n",
    "X = df[[\"percent_change_1h\", \"percent_change_7d\", \"price_usd\"]]\n",
    "y = df[\"24h_volume_usd\"]\n",
    "\n",
    "X_train, X_test, y_train, y_test = train_test_split(X, y, test_size=0.33, random_state=42)\n",
    "\n",
    "scaler = StandardScaler()\n",
    "X_train = scaler.fit_transform(X_train)\n",
    "X_test = scaler.transform(X_test)\n",
    "\n",
    "# Create a random forest regressor model\n",
    "model = RandomForestRegressor()\n",
    "\n",
    "# Train the model\n",
    "model.fit(X_train, y_train)\n",
    "\n",
    "# Make predictions\n",
    "predictions = model.predict(X_test)\n",
    "\n",
    "# Evaluate the model\n",
    "score = model.score(X_test, y_test)\n",
    "print(\"R^2 score:\", score)"
   ]
  },
  {
   "cell_type": "code",
   "execution_count": 21,
   "id": "156362a5",
   "metadata": {},
   "outputs": [
    {
     "name": "stdout",
     "output_type": "stream",
     "text": [
      "['Binarizer', 'FunctionTransformer', 'KBinsDiscretizer', 'KernelCenterer', 'LabelBinarizer', 'LabelEncoder', 'MaxAbsScaler', 'MinMaxScaler', 'MultiLabelBinarizer', 'Normalizer', 'OneHotEncoder', 'OrdinalEncoder', 'PolynomialFeatures', 'PowerTransformer', 'QuantileTransformer', 'RobustScaler', 'SplineTransformer', 'StandardScaler', 'TargetEncoder', '__all__', '__builtins__', '__cached__', '__doc__', '__file__', '__loader__', '__name__', '__package__', '__path__', '__spec__', '_csr_polynomial_expansion', '_data', '_discretization', '_encoders', '_function_transformer', '_label', '_polynomial', '_target_encoder', '_target_encoder_fast', 'add_dummy_feature', 'binarize', 'label_binarize', 'maxabs_scale', 'minmax_scale', 'normalize', 'power_transform', 'quantile_transform', 'robust_scale', 'scale']\n"
     ]
    }
   ],
   "source": [
    "import sklearn\n",
    "print(dir(sklearn.preprocessing))"
   ]
  },
  {
   "cell_type": "code",
   "execution_count": 22,
   "id": "0f265466",
   "metadata": {},
   "outputs": [
    {
     "name": "stdout",
     "output_type": "stream",
     "text": [
      "[2.86332782e+07 4.14071038e+05 4.64569698e+05 4.68497287e+06\n",
      " 3.11925353e+05 1.16033405e+06 4.79675133e+07 2.21579810e+07\n",
      " 8.31626221e+05 2.38305500e+06 2.28734335e+07 3.98620016e+07\n",
      " 2.68388875e+06 6.92747106e+04 6.79427184e+06 1.82175253e+06\n",
      " 3.41755442e+05 3.27062639e+07 5.61840197e+05 4.71726651e+07\n",
      " 2.78660129e+05 2.37287685e+05 2.17955732e+05 4.99815918e+05\n",
      " 6.38563319e+03 4.31215048e+07 1.04343912e+05 1.04333292e+05\n",
      " 1.96313101e+06 1.00808590e+04 2.02457661e+03 9.86190229e+05\n",
      " 2.86488961e+07 2.90225270e+06 1.16113912e+07 5.34351689e+06\n",
      " 1.86471277e+06 4.85318843e+06 1.76085235e+07 2.93260658e+07\n",
      " 1.47843900e+06 7.15599579e+06 1.08366141e+07 1.24925387e+07\n",
      " 1.12117230e+07 2.08693051e+06 7.89657323e+05 6.84658270e+05\n",
      " 6.41187501e+05 5.88122889e+06 2.96788582e+05 8.52457419e+05\n",
      " 4.65266938e+05 1.34127409e+06 1.12027759e+06 1.18102742e+06\n",
      " 4.09629847e+07 2.20340162e+06 1.37599228e+07 5.64795007e+06\n",
      " 2.26651233e+03 4.93375275e+07]\n"
     ]
    }
   ],
   "source": [
    "#Train a random forest regressor on the data\n",
    "regr = RandomForestRegressor()\n",
    "regr.fit(X_train, y_train)\n",
    "\n",
    "#Make predictions on the crypto data\n",
    "predictions = regr.predict(X_test)\n",
    "print(predictions)"
   ]
  },
  {
   "cell_type": "code",
   "execution_count": 23,
   "id": "a776436b",
   "metadata": {},
   "outputs": [
    {
     "name": "stdout",
     "output_type": "stream",
     "text": [
      "Mean return: 62554.78822312827\n",
      "Standard deviation: 1340582.0090027824\n",
      "Sharpe ratio: 0.046662410656742176\n",
      "Asset correlations\n",
      "                    Unnamed: 0  24h_volume_usd  available_supply  \\\n",
      "Unnamed: 0            1.000000       -0.100141         -0.025381   \n",
      "24h_volume_usd       -0.100141        1.000000         -0.004357   \n",
      "available_supply     -0.025381       -0.004357          1.000000   \n",
      "last_updated         -0.152718       -0.022068          0.007836   \n",
      "market_cap_usd       -0.090380        0.962901         -0.003039   \n",
      "max_supply           -0.037318       -0.007268         -0.005606   \n",
      "percent_change_1h     0.013322       -0.005457         -0.015611   \n",
      "percent_change_24h    0.011651        0.011719          0.058239   \n",
      "percent_change_7d    -0.067939        0.011986         -0.012988   \n",
      "price_btc             0.000746        0.027201         -0.003090   \n",
      "price_usd             0.000719        0.027724         -0.003091   \n",
      "rank                  1.000000       -0.100141         -0.025381   \n",
      "total_supply          0.014050       -0.001876          0.005808   \n",
      "Return                0.024500       -0.004185         -0.003674   \n",
      "\n",
      "                    last_updated  market_cap_usd  max_supply  \\\n",
      "Unnamed: 0             -0.152718       -0.090380   -0.037318   \n",
      "24h_volume_usd         -0.022068        0.962901   -0.007268   \n",
      "available_supply        0.007836       -0.003039   -0.005606   \n",
      "last_updated            1.000000        0.005636    0.006685   \n",
      "market_cap_usd          0.005636        1.000000   -0.007026   \n",
      "max_supply              0.006685       -0.007026    1.000000   \n",
      "percent_change_1h       0.006027       -0.004621   -0.011710   \n",
      "percent_change_24h      0.035458       -0.002080   -0.005211   \n",
      "percent_change_7d       0.043327       -0.003773   -0.017526   \n",
      "price_btc               0.004741        0.028980   -0.007712   \n",
      "price_usd               0.004743        0.029531   -0.007669   \n",
      "rank                   -0.152718       -0.090380   -0.037318   \n",
      "total_supply            0.002915       -0.001687   -0.007547   \n",
      "Return                  0.005722       -0.004436   -0.006537   \n",
      "\n",
      "                    percent_change_1h  percent_change_24h  percent_change_7d  \\\n",
      "Unnamed: 0                   0.013322            0.011651          -0.067939   \n",
      "24h_volume_usd              -0.005457            0.011719           0.011986   \n",
      "available_supply            -0.015611            0.058239          -0.012988   \n",
      "last_updated                 0.006027            0.035458           0.043327   \n",
      "market_cap_usd              -0.004621           -0.002080          -0.003773   \n",
      "max_supply                  -0.011710           -0.005211          -0.017526   \n",
      "percent_change_1h            1.000000            0.202567           0.083884   \n",
      "percent_change_24h           0.202567            1.000000           0.405632   \n",
      "percent_change_7d            0.083884            0.405632           1.000000   \n",
      "price_btc                    0.010067           -0.001576          -0.003722   \n",
      "price_usd                    0.010066           -0.001577          -0.003729   \n",
      "rank                         0.013322            0.011651          -0.067939   \n",
      "total_supply                -0.001307           -0.001364          -0.002777   \n",
      "Return                       0.013191            0.013537          -0.011494   \n",
      "\n",
      "                    price_btc  price_usd      rank  total_supply    Return  \n",
      "Unnamed: 0           0.000746   0.000719  1.000000      0.014050  0.024500  \n",
      "24h_volume_usd       0.027201   0.027724 -0.100141     -0.001876 -0.004185  \n",
      "available_supply    -0.003090  -0.003091 -0.025381      0.005808 -0.003674  \n",
      "last_updated         0.004741   0.004743 -0.152718      0.002915  0.005722  \n",
      "market_cap_usd       0.028980   0.029531 -0.090380     -0.001687 -0.004436  \n",
      "max_supply          -0.007712  -0.007669 -0.037318     -0.007547 -0.006537  \n",
      "percent_change_1h    0.010067   0.010066  0.013322     -0.001307  0.013191  \n",
      "percent_change_24h  -0.001576  -0.001577  0.011651     -0.001364  0.013537  \n",
      "percent_change_7d   -0.003722  -0.003729 -0.067939     -0.002777 -0.011494  \n",
      "price_btc            1.000000   1.000000  0.000746     -0.001118  0.665772  \n",
      "price_usd            1.000000   1.000000  0.000719     -0.001118  0.665772  \n",
      "rank                 0.000746   0.000719  1.000000      0.014050  0.024500  \n",
      "total_supply        -0.001118  -0.001118  0.014050      1.000000 -0.001426  \n",
      "Return               0.665772   0.665772  0.024500     -0.001426  1.000000  \n"
     ]
    },
    {
     "name": "stderr",
     "output_type": "stream",
     "text": [
      "C:\\Users\\gideo\\AppData\\Local\\Temp\\ipykernel_13584\\36443125.py:20: FutureWarning: The default value of numeric_only in DataFrame.corr is deprecated. In a future version, it will default to False. Select only valid columns or specify the value of numeric_only to silence this warning.\n",
      "  correlations = df.corr()\n"
     ]
    },
    {
     "ename": "TypeError",
     "evalue": "Series.cov() missing 1 required positional argument: 'other'",
     "output_type": "error",
     "traceback": [
      "\u001b[1;31m---------------------------------------------------------------------------\u001b[0m",
      "\u001b[1;31mTypeError\u001b[0m                                 Traceback (most recent call last)",
      "Cell \u001b[1;32mIn[23], line 26\u001b[0m\n\u001b[0;32m     24\u001b[0m \u001b[38;5;66;03m# Optimize the portfolio using the Markowitz Model\u001b[39;00m\n\u001b[0;32m     25\u001b[0m returns \u001b[38;5;241m=\u001b[39m df[\u001b[38;5;124m\"\u001b[39m\u001b[38;5;124mReturn\u001b[39m\u001b[38;5;124m\"\u001b[39m]\u001b[38;5;241m.\u001b[39mvalues\n\u001b[1;32m---> 26\u001b[0m covariance \u001b[38;5;241m=\u001b[39m \u001b[43mdf\u001b[49m\u001b[43m[\u001b[49m\u001b[38;5;124;43m\"\u001b[39;49m\u001b[38;5;124;43mReturn\u001b[39;49m\u001b[38;5;124;43m\"\u001b[39;49m\u001b[43m]\u001b[49m\u001b[38;5;241;43m.\u001b[39;49m\u001b[43mcov\u001b[49m\u001b[43m(\u001b[49m\u001b[43m)\u001b[49m\n\u001b[0;32m     28\u001b[0m \u001b[38;5;66;03m# Set the target return and the constraints\u001b[39;00m\n\u001b[0;32m     29\u001b[0m target_return \u001b[38;5;241m=\u001b[39m \u001b[38;5;241m0.1\u001b[39m\n",
      "\u001b[1;31mTypeError\u001b[0m: Series.cov() missing 1 required positional argument: 'other'"
     ]
    }
   ],
   "source": [
    "import pandas as pd\n",
    "import numpy as np\n",
    "from scipy.optimize import minimize\n",
    "\n",
    "# Load the asset data into a data frame for Portfolio Management\n",
    "df = pd.read_csv(\"TotalMarketCSV File.csv\")\n",
    "\n",
    "# Calculate the returns of the assets\n",
    "df[\"Return\"] = df[\"price_usd\"].pct_change()\n",
    "\n",
    "# Print the mean and standard deviation of the returns\n",
    "print(\"Mean return:\", df[\"Return\"].mean())\n",
    "print(\"Standard deviation:\", df[\"Return\"].std())\n",
    "\n",
    "# Calculate the sharpe ratio of assets\n",
    "sharpe_ratio = df[\"Return\"].mean() / df[\"Return\"].std()\n",
    "print(\"Sharpe ratio:\", sharpe_ratio)\n",
    "\n",
    "# Calculate the correlations between the assets\n",
    "correlations = df.corr()\n",
    "print(\"Asset correlations\")\n",
    "print(correlations)\n",
    "\n",
    "# Optimize the portfolio using the Markowitz Model\n",
    "returns = df[\"Return\"].values\n",
    "covariance = df[\"Return\"].cov()\n",
    "\n",
    "# Set the target return and the constraints\n",
    "target_return = 0.1\n",
    "constraints = ({\"type\": \"eq\", \"fun\": lambda x: np.sum(x) - 1})\n",
    "\n",
    "# Define the bounds for the optimization\n",
    "num_assets = len(df.columns) - 1\n",
    "bnds = tuple((0, 1) for _ in range(num_assets))\n",
    "\n",
    "# Minimize the portfolio variance\n",
    "portfolio_variance = lambda x: np.dot(x, np.dot(covariance, x))\n",
    "result = minimize(portfolio_variance, num_assets * [1. / num_assets],\n",
    "                  method=\"SLSQP\", bounds=bnds, constraints=constraints)\n",
    "optimal_weights = result[\"x\"]\n",
    "print(\"Optimal weights:\", optimal_weights)\n"
   ]
  },
  {
   "cell_type": "code",
   "execution_count": null,
   "id": "7ffd1775",
   "metadata": {},
   "outputs": [],
   "source": []
  }
 ],
 "metadata": {
  "kernelspec": {
   "display_name": "Python 3 (ipykernel)",
   "language": "python",
   "name": "python3"
  },
  "language_info": {
   "codemirror_mode": {
    "name": "ipython",
    "version": 3
   },
   "file_extension": ".py",
   "mimetype": "text/x-python",
   "name": "python",
   "nbconvert_exporter": "python",
   "pygments_lexer": "ipython3",
   "version": "3.10.9"
  }
 },
 "nbformat": 4,
 "nbformat_minor": 5
}
