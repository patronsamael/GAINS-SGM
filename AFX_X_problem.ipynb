{
  "nbformat": 4,
  "nbformat_minor": 0,
  "metadata": {
    "colab": {
      "provenance": [],
      "authorship_tag": "ABX9TyN/A6gsrI/yubsUztqGTzYY",
      "include_colab_link": true
    },
    "kernelspec": {
      "name": "python3",
      "display_name": "Python 3"
    },
    "language_info": {
      "name": "python"
    }
  },
  "cells": [
    {
      "cell_type": "markdown",
      "metadata": {
        "id": "view-in-github",
        "colab_type": "text"
      },
      "source": [
        "<a href=\"https://colab.research.google.com/github/patronsamael/ATLAS/blob/main/AFX_X_problem.ipynb\" target=\"_parent\"><img src=\"https://colab.research.google.com/assets/colab-badge.svg\" alt=\"Open In Colab\"/></a>"
      ]
    },
    {
      "cell_type": "code",
      "execution_count": 4,
      "metadata": {
        "id": "fJT5gxv2lB7q"
      },
      "outputs": [],
      "source": [
        "import pandas as pd\n",
        "import matplotlib.pyplot as plt\n",
        "from datetime import datetime\n",
        "import yfinance as yf"
      ]
    },
    {
      "cell_type": "code",
      "source": [
        "def pull_stock_data(symbol, start_date, end_date):\n",
        "    #create a ticker object creating the object for the Frankfurt Stock Exchange\n",
        "    ticker = yf.Ticker(f\"{symbol}\")\n",
        "\n",
        "    #Retrieve the historical data on the ticker for the specified range\n",
        "    data = ticker.history(start=start_date, end=end_date)\n",
        "\n",
        "    return data\n",
        "\n",
        "#Usage on AFX_X\n",
        "\n",
        "symbol = \"AFX_X\" #Frankfurt Stock Exchange Ticker\n",
        "start_date = \"2017-01-01\"\n",
        "end_date = \"2017-12-31\""
      ],
      "metadata": {
        "id": "4KiYgifxlGhH"
      },
      "execution_count": 5,
      "outputs": []
    },
    {
      "cell_type": "code",
      "source": [
        "stock_data = pull_stock_data(symbol, start_date, end_date)\n",
        "print(stock_data)"
      ],
      "metadata": {
        "colab": {
          "base_uri": "https://localhost:8080/"
        },
        "id": "ZeU_23VflJvG",
        "outputId": "91af8cf5-02bc-4562-b3dd-c32f34500cd5"
      },
      "execution_count": 6,
      "outputs": [
        {
          "output_type": "stream",
          "name": "stderr",
          "text": [
            "ERROR:yfinance:AFX_X: No timezone found, symbol may be delisted\n"
          ]
        },
        {
          "output_type": "stream",
          "name": "stdout",
          "text": [
            "Empty DataFrame\n",
            "Columns: [Open, High, Low, Close, Adj Close, Volume]\n",
            "Index: []\n"
          ]
        }
      ]
    },
    {
      "cell_type": "markdown",
      "source": [
        "The stock"
      ],
      "metadata": {
        "id": "h4lW_qVVlmak"
      }
    }
  ]
}